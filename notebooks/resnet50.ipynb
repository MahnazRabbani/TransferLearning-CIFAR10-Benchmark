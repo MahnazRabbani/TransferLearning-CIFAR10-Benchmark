{
 "cells": [
  {
   "cell_type": "markdown",
   "metadata": {},
   "source": [
    "# Finetuning ResNet50\n"
   ]
  },
  {
   "cell_type": "code",
   "execution_count": 1,
   "metadata": {},
   "outputs": [],
   "source": [
    "from datasets import load_dataset\n",
    "\n",
    "cifar10dataset = load_dataset(\"cifar10\", split=\"train[:5000]\")"
   ]
  },
  {
   "cell_type": "code",
   "execution_count": 2,
   "metadata": {},
   "outputs": [],
   "source": [
    "cifar10dataset = cifar10dataset.train_test_split(test_size=0.2)"
   ]
  },
  {
   "cell_type": "code",
   "execution_count": 3,
   "metadata": {},
   "outputs": [],
   "source": [
    "labels = cifar10dataset[\"train\"].features[\"label\"].names\n",
    "label2id, id2label = dict(), dict()\n",
    "for i, label in enumerate(labels):\n",
    "    label2id[label] = str(i)\n",
    "    id2label[str(i)] = label"
   ]
  },
  {
   "cell_type": "code",
   "execution_count": 4,
   "metadata": {},
   "outputs": [
    {
     "name": "stderr",
     "output_type": "stream",
     "text": [
      "Could not find image processor class in the image processor config or the model config. Loading based on pattern matching with the model's feature extractor configuration.\n",
      "2023-08-10 15:17:45.457060: I tensorflow/core/platform/cpu_feature_guard.cc:182] This TensorFlow binary is optimized to use available CPU instructions in performance-critical operations.\n",
      "To enable the following instructions: AVX2 FMA, in other operations, rebuild TensorFlow with the appropriate compiler flags.\n",
      "2023-08-10 15:17:46.349205: W tensorflow/compiler/tf2tensorrt/utils/py_utils.cc:38] TF-TRT Warning: Could not find TensorRT\n"
     ]
    }
   ],
   "source": [
    "from transformers import AutoImageProcessor\n",
    "\n",
    "checkpoint = \"microsoft/resnet-50\"\n",
    "image_processor = AutoImageProcessor.from_pretrained(checkpoint)"
   ]
  },
  {
   "cell_type": "code",
   "execution_count": 5,
   "metadata": {},
   "outputs": [],
   "source": [
    "from torchvision.transforms import RandomResizedCrop, Compose, Normalize, ToTensor\n",
    "\n",
    "normalize = Normalize(mean=image_processor.image_mean, std=image_processor.image_std)\n",
    "size = (\n",
    "    image_processor.size[\"shortest_edge\"]\n",
    "    if \"shortest_edge\" in image_processor.size\n",
    "    else (image_processor.size[\"height\"], image_processor.size[\"width\"])\n",
    ")\n",
    "_transforms = Compose([RandomResizedCrop(size), ToTensor(), normalize])"
   ]
  },
  {
   "cell_type": "code",
   "execution_count": 6,
   "metadata": {},
   "outputs": [],
   "source": [
    "def transforms(examples):\n",
    "    examples[\"pixel_values\"] = [_transforms(img.convert(\"RGB\")) for img in examples[\"img\"]]\n",
    "    del examples[\"img\"]\n",
    "    return examples"
   ]
  },
  {
   "cell_type": "code",
   "execution_count": 7,
   "metadata": {},
   "outputs": [],
   "source": [
    "cifar10dataset = cifar10dataset.with_transform(transforms)"
   ]
  },
  {
   "cell_type": "code",
   "execution_count": 8,
   "metadata": {},
   "outputs": [],
   "source": [
    "from transformers import DefaultDataCollator\n",
    "\n",
    "data_collator = DefaultDataCollator()"
   ]
  },
  {
   "cell_type": "code",
   "execution_count": 9,
   "metadata": {},
   "outputs": [],
   "source": [
    "import evaluate\n",
    "\n",
    "accuracy = evaluate.load(\"accuracy\")"
   ]
  },
  {
   "cell_type": "code",
   "execution_count": 10,
   "metadata": {},
   "outputs": [],
   "source": [
    "import numpy as np\n",
    "\n",
    "\n",
    "def compute_metrics(eval_pred):\n",
    "    predictions, labels = eval_pred\n",
    "    predictions = np.argmax(predictions, axis=1)\n",
    "    return accuracy.compute(predictions=predictions, references=labels)"
   ]
  },
  {
   "cell_type": "code",
   "execution_count": 11,
   "metadata": {},
   "outputs": [
    {
     "name": "stderr",
     "output_type": "stream",
     "text": [
      "Some weights of ResNetForImageClassification were not initialized from the model checkpoint at microsoft/resnet-50 and are newly initialized because the shapes did not match:\n",
      "- classifier.1.weight: found shape torch.Size([1000, 2048]) in the checkpoint and torch.Size([10, 2048]) in the model instantiated\n",
      "- classifier.1.bias: found shape torch.Size([1000]) in the checkpoint and torch.Size([10]) in the model instantiated\n",
      "You should probably TRAIN this model on a down-stream task to be able to use it for predictions and inference.\n"
     ]
    }
   ],
   "source": [
    "from transformers import AutoModelForImageClassification, TrainingArguments, Trainer\n",
    "\n",
    "model = AutoModelForImageClassification.from_pretrained(\n",
    "    checkpoint,\n",
    "    num_labels=len(labels),\n",
    "    ignore_mismatched_sizes=True,\n",
    "    id2label=id2label,\n",
    "    label2id=label2id,\n",
    ")"
   ]
  },
  {
   "cell_type": "code",
   "execution_count": 12,
   "metadata": {},
   "outputs": [
    {
     "name": "stderr",
     "output_type": "stream",
     "text": [
      "/home/mahnaz/mlprojects/bloom-classifier/venv_bloom-classifier/lib/python3.11/site-packages/transformers/optimization.py:411: FutureWarning: This implementation of AdamW is deprecated and will be removed in a future version. Use the PyTorch implementation torch.optim.AdamW instead, or set `no_deprecation_warning=True` to disable this warning\n",
      "  warnings.warn(\n"
     ]
    },
    {
     "data": {
      "application/vnd.jupyter.widget-view+json": {
       "model_id": "2a79768f90034216889a6bf0de9c71e9",
       "version_major": 2,
       "version_minor": 0
      },
      "text/plain": [
       "  0%|          | 0/375 [00:00<?, ?it/s]"
      ]
     },
     "metadata": {},
     "output_type": "display_data"
    },
    {
     "name": "stdout",
     "output_type": "stream",
     "text": [
      "{'loss': 2.3054, 'learning_rate': 1.3157894736842106e-05, 'epoch': 0.08}\n",
      "{'loss': 2.3145, 'learning_rate': 2.6315789473684212e-05, 'epoch': 0.16}\n",
      "{'loss': 2.294, 'learning_rate': 3.9473684210526316e-05, 'epoch': 0.24}\n",
      "{'loss': 2.301, 'learning_rate': 4.9703264094955494e-05, 'epoch': 0.32}\n",
      "{'loss': 2.2901, 'learning_rate': 4.821958456973294e-05, 'epoch': 0.4}\n",
      "{'loss': 2.2883, 'learning_rate': 4.673590504451038e-05, 'epoch': 0.48}\n",
      "{'loss': 2.2846, 'learning_rate': 4.525222551928784e-05, 'epoch': 0.56}\n",
      "{'loss': 2.2747, 'learning_rate': 4.3768545994065286e-05, 'epoch': 0.64}\n",
      "{'loss': 2.2777, 'learning_rate': 4.228486646884273e-05, 'epoch': 0.72}\n",
      "{'loss': 2.2764, 'learning_rate': 4.080118694362018e-05, 'epoch': 0.8}\n",
      "{'loss': 2.2716, 'learning_rate': 3.9317507418397627e-05, 'epoch': 0.88}\n",
      "{'loss': 2.2698, 'learning_rate': 3.783382789317508e-05, 'epoch': 0.96}\n"
     ]
    },
    {
     "data": {
      "application/vnd.jupyter.widget-view+json": {
       "model_id": "674b9c8d9b374d42add0b2655a7631a2",
       "version_major": 2,
       "version_minor": 0
      },
      "text/plain": [
       "  0%|          | 0/125 [00:00<?, ?it/s]"
      ]
     },
     "metadata": {},
     "output_type": "display_data"
    },
    {
     "name": "stdout",
     "output_type": "stream",
     "text": [
      "{'eval_loss': 2.256812810897827, 'eval_accuracy': 0.229, 'eval_runtime': 5.6183, 'eval_samples_per_second': 177.989, 'eval_steps_per_second': 22.249, 'epoch': 1.0}\n",
      "{'loss': 2.2609, 'learning_rate': 3.635014836795252e-05, 'epoch': 1.04}\n",
      "{'loss': 2.2675, 'learning_rate': 3.4866468842729974e-05, 'epoch': 1.12}\n",
      "{'loss': 2.2551, 'learning_rate': 3.338278931750742e-05, 'epoch': 1.2}\n",
      "{'loss': 2.2541, 'learning_rate': 3.189910979228487e-05, 'epoch': 1.28}\n",
      "{'loss': 2.2441, 'learning_rate': 3.0415430267062318e-05, 'epoch': 1.36}\n",
      "{'loss': 2.2456, 'learning_rate': 2.8931750741839762e-05, 'epoch': 1.44}\n",
      "{'loss': 2.2361, 'learning_rate': 2.744807121661721e-05, 'epoch': 1.52}\n",
      "{'loss': 2.2345, 'learning_rate': 2.5964391691394662e-05, 'epoch': 1.6}\n",
      "{'loss': 2.2342, 'learning_rate': 2.4480712166172106e-05, 'epoch': 1.68}\n",
      "{'loss': 2.2372, 'learning_rate': 2.2997032640949558e-05, 'epoch': 1.76}\n",
      "{'loss': 2.2298, 'learning_rate': 2.1513353115727002e-05, 'epoch': 1.84}\n",
      "{'loss': 2.2166, 'learning_rate': 2.0029673590504454e-05, 'epoch': 1.92}\n",
      "{'loss': 2.2083, 'learning_rate': 1.85459940652819e-05, 'epoch': 2.0}\n"
     ]
    },
    {
     "data": {
      "application/vnd.jupyter.widget-view+json": {
       "model_id": "36e8f5e4546748849ba89a9ed342e49d",
       "version_major": 2,
       "version_minor": 0
      },
      "text/plain": [
       "  0%|          | 0/125 [00:00<?, ?it/s]"
      ]
     },
     "metadata": {},
     "output_type": "display_data"
    },
    {
     "name": "stdout",
     "output_type": "stream",
     "text": [
      "{'eval_loss': 2.2155098915100098, 'eval_accuracy': 0.296, 'eval_runtime': 5.8047, 'eval_samples_per_second': 172.276, 'eval_steps_per_second': 21.534, 'epoch': 2.0}\n",
      "{'loss': 2.2164, 'learning_rate': 1.706231454005935e-05, 'epoch': 2.08}\n",
      "{'loss': 2.2, 'learning_rate': 1.5578635014836794e-05, 'epoch': 2.16}\n",
      "{'loss': 2.202, 'learning_rate': 1.4094955489614246e-05, 'epoch': 2.24}\n",
      "{'loss': 2.2195, 'learning_rate': 1.2611275964391692e-05, 'epoch': 2.32}\n",
      "{'loss': 2.2047, 'learning_rate': 1.112759643916914e-05, 'epoch': 2.4}\n",
      "{'loss': 2.2022, 'learning_rate': 9.643916913946588e-06, 'epoch': 2.48}\n",
      "{'loss': 2.2018, 'learning_rate': 8.160237388724036e-06, 'epoch': 2.56}\n",
      "{'loss': 2.193, 'learning_rate': 6.676557863501484e-06, 'epoch': 2.64}\n",
      "{'loss': 2.1873, 'learning_rate': 5.192878338278932e-06, 'epoch': 2.72}\n",
      "{'loss': 2.192, 'learning_rate': 3.7091988130563796e-06, 'epoch': 2.8}\n",
      "{'loss': 2.186, 'learning_rate': 2.225519287833828e-06, 'epoch': 2.88}\n",
      "{'loss': 2.1992, 'learning_rate': 7.41839762611276e-07, 'epoch': 2.96}\n"
     ]
    },
    {
     "data": {
      "application/vnd.jupyter.widget-view+json": {
       "model_id": "84337e42459343afaa7dfa8b900178ee",
       "version_major": 2,
       "version_minor": 0
      },
      "text/plain": [
       "  0%|          | 0/125 [00:00<?, ?it/s]"
      ]
     },
     "metadata": {},
     "output_type": "display_data"
    },
    {
     "name": "stdout",
     "output_type": "stream",
     "text": [
      "{'eval_loss': 2.192864179611206, 'eval_accuracy': 0.293, 'eval_runtime': 5.7669, 'eval_samples_per_second': 173.402, 'eval_steps_per_second': 21.675, 'epoch': 3.0}\n",
      "{'train_runtime': 219.6975, 'train_samples_per_second': 54.621, 'train_steps_per_second': 1.707, 'train_loss': 2.24185915629069, 'epoch': 3.0}\n"
     ]
    },
    {
     "data": {
      "text/plain": [
       "TrainOutput(global_step=375, training_loss=2.24185915629069, metrics={'train_runtime': 219.6975, 'train_samples_per_second': 54.621, 'train_steps_per_second': 1.707, 'train_loss': 2.24185915629069, 'epoch': 3.0})"
      ]
     },
     "execution_count": 12,
     "metadata": {},
     "output_type": "execute_result"
    }
   ],
   "source": [
    "training_args = TrainingArguments(\n",
    "    output_dir=\"cifar10_resnet50\",\n",
    "    remove_unused_columns=False,\n",
    "    evaluation_strategy=\"epoch\",\n",
    "    save_strategy=\"epoch\",\n",
    "    learning_rate=5e-5,\n",
    "    per_device_train_batch_size=8, # memory error with 16\n",
    "    gradient_accumulation_steps=4,\n",
    "    per_device_eval_batch_size=8,\n",
    "    num_train_epochs=3,\n",
    "    warmup_ratio=0.1,\n",
    "    logging_steps=10,\n",
    "    load_best_model_at_end=True,\n",
    "    metric_for_best_model=\"accuracy\",\n",
    "    push_to_hub=False,\n",
    ")\n",
    "\n",
    "trainer = Trainer(\n",
    "    model=model,\n",
    "    args=training_args,\n",
    "    data_collator=data_collator,\n",
    "    train_dataset=cifar10dataset[\"train\"],\n",
    "    eval_dataset=cifar10dataset[\"test\"],\n",
    "    tokenizer=image_processor,\n",
    "    compute_metrics=compute_metrics,\n",
    ")\n",
    "\n",
    "trainer.train()"
   ]
  },
  {
   "cell_type": "markdown",
   "metadata": {},
   "source": [
    "Model is learning as the loss is decreasing, however very slowly. why is that, and how we can make the learning faster?"
   ]
  }
 ],
 "metadata": {
  "kernelspec": {
   "display_name": "venv_bloom-classifier",
   "language": "python",
   "name": "python3"
  },
  "language_info": {
   "codemirror_mode": {
    "name": "ipython",
    "version": 3
   },
   "file_extension": ".py",
   "mimetype": "text/x-python",
   "name": "python",
   "nbconvert_exporter": "python",
   "pygments_lexer": "ipython3",
   "version": "3.11.3"
  },
  "orig_nbformat": 4
 },
 "nbformat": 4,
 "nbformat_minor": 2
}
