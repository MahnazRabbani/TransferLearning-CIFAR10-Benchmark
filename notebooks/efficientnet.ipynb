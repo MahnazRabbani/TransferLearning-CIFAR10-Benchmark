{
 "cells": [
  {
   "cell_type": "markdown",
   "metadata": {},
   "source": [
    "# Finetuning efficientNet"
   ]
  },
  {
   "cell_type": "markdown",
   "metadata": {},
   "source": [
    "Lets try the model that is trending for image classification on HuggingFace: efficientnet_b2.ra_in1k"
   ]
  },
  {
   "cell_type": "code",
   "execution_count": 1,
   "metadata": {},
   "outputs": [],
   "source": [
    "from datasets import load_dataset\n",
    "\n",
    "cifar10dataset = load_dataset(\"cifar10\", split=\"train\")"
   ]
  },
  {
   "cell_type": "code",
   "execution_count": 2,
   "metadata": {},
   "outputs": [],
   "source": [
    "cifar10dataset = cifar10dataset.train_test_split(test_size=0.2)"
   ]
  },
  {
   "cell_type": "code",
   "execution_count": 3,
   "metadata": {},
   "outputs": [],
   "source": [
    "labels = cifar10dataset[\"train\"].features[\"label\"].names\n",
    "label2id, id2label = dict(), dict()\n",
    "for i, label in enumerate(labels):\n",
    "    label2id[label] = str(i)\n",
    "    id2label[str(i)] = label"
   ]
  },
  {
   "cell_type": "code",
   "execution_count": 4,
   "metadata": {},
   "outputs": [
    {
     "name": "stderr",
     "output_type": "stream",
     "text": [
      "2023-08-14 11:17:24.073751: I tensorflow/core/platform/cpu_feature_guard.cc:182] This TensorFlow binary is optimized to use available CPU instructions in performance-critical operations.\n",
      "To enable the following instructions: AVX2 FMA, in other operations, rebuild TensorFlow with the appropriate compiler flags.\n",
      "2023-08-14 11:17:25.039990: W tensorflow/compiler/tf2tensorrt/utils/py_utils.cc:38] TF-TRT Warning: Could not find TensorRT\n"
     ]
    }
   ],
   "source": [
    "from transformers import AutoImageProcessor\n",
    "\n",
    "#import timm\n",
    "#model = timm.create_model(\"hf_hub:timm/efficientnet_b2.ra_in1k\", pretrained=True)\n",
    "\n",
    "checkpoint = \"google/efficientnet-b0\"\n",
    "image_processor = AutoImageProcessor.from_pretrained(checkpoint)"
   ]
  },
  {
   "cell_type": "code",
   "execution_count": 5,
   "metadata": {},
   "outputs": [],
   "source": [
    "from torchvision.transforms import RandomResizedCrop, Compose, Normalize, ToTensor\n",
    "\n",
    "normalize = Normalize(mean=image_processor.image_mean, std=image_processor.image_std)\n",
    "size = (\n",
    "    image_processor.size[\"shortest_edge\"]\n",
    "    if \"shortest_edge\" in image_processor.size\n",
    "    else (image_processor.size[\"height\"], image_processor.size[\"width\"])\n",
    ")\n",
    "_transforms = Compose([RandomResizedCrop(size), ToTensor(), normalize])"
   ]
  },
  {
   "cell_type": "code",
   "execution_count": 6,
   "metadata": {},
   "outputs": [],
   "source": [
    "def transforms(examples):\n",
    "    examples[\"pixel_values\"] = [_transforms(img.convert(\"RGB\")) for img in examples[\"img\"]]\n",
    "    del examples[\"img\"]\n",
    "    return examples"
   ]
  },
  {
   "cell_type": "code",
   "execution_count": 7,
   "metadata": {},
   "outputs": [],
   "source": [
    "cifar10dataset = cifar10dataset.with_transform(transforms)"
   ]
  },
  {
   "cell_type": "code",
   "execution_count": 8,
   "metadata": {},
   "outputs": [],
   "source": [
    "from transformers import DefaultDataCollator\n",
    "\n",
    "data_collator = DefaultDataCollator()"
   ]
  },
  {
   "cell_type": "code",
   "execution_count": 9,
   "metadata": {},
   "outputs": [],
   "source": [
    "import evaluate\n",
    "\n",
    "accuracy = evaluate.load(\"accuracy\")"
   ]
  },
  {
   "cell_type": "code",
   "execution_count": 10,
   "metadata": {},
   "outputs": [],
   "source": [
    "import numpy as np\n",
    "\n",
    "\n",
    "def compute_metrics(eval_pred):\n",
    "    predictions, labels = eval_pred\n",
    "    predictions = np.argmax(predictions, axis=1)\n",
    "    return accuracy.compute(predictions=predictions, references=labels)"
   ]
  },
  {
   "cell_type": "code",
   "execution_count": 11,
   "metadata": {},
   "outputs": [
    {
     "name": "stderr",
     "output_type": "stream",
     "text": [
      "Some weights of EfficientNetForImageClassification were not initialized from the model checkpoint at google/efficientnet-b0 and are newly initialized because the shapes did not match:\n",
      "- classifier.weight: found shape torch.Size([1000, 1280]) in the checkpoint and torch.Size([10, 1280]) in the model instantiated\n",
      "- classifier.bias: found shape torch.Size([1000]) in the checkpoint and torch.Size([10]) in the model instantiated\n",
      "You should probably TRAIN this model on a down-stream task to be able to use it for predictions and inference.\n"
     ]
    }
   ],
   "source": [
    "from transformers import AutoModelForImageClassification, TrainingArguments, Trainer\n",
    "\n",
    "model = AutoModelForImageClassification.from_pretrained(\n",
    "    checkpoint,\n",
    "    num_labels=len(labels),\n",
    "    ignore_mismatched_sizes=True,\n",
    "    id2label=id2label,\n",
    "    label2id=label2id,\n",
    ")"
   ]
  },
  {
   "cell_type": "code",
   "execution_count": 12,
   "metadata": {},
   "outputs": [],
   "source": [
    "import torch \n",
    "torch.cuda.empty_cache()\n"
   ]
  },
  {
   "cell_type": "code",
   "execution_count": 13,
   "metadata": {},
   "outputs": [
    {
     "name": "stderr",
     "output_type": "stream",
     "text": [
      "/home/mahnaz/mlprojects/bloom-classifier/venv_bloom-classifier/lib/python3.11/site-packages/transformers/optimization.py:411: FutureWarning: This implementation of AdamW is deprecated and will be removed in a future version. Use the PyTorch implementation torch.optim.AdamW instead, or set `no_deprecation_warning=True` to disable this warning\n",
      "  warnings.warn(\n"
     ]
    },
    {
     "data": {
      "application/vnd.jupyter.widget-view+json": {
       "model_id": "514741b7bcaa4557aa7c51c4517891aa",
       "version_major": 2,
       "version_minor": 0
      },
      "text/plain": [
       "  0%|          | 0/3750 [00:00<?, ?it/s]"
      ]
     },
     "metadata": {},
     "output_type": "display_data"
    },
    {
     "name": "stdout",
     "output_type": "stream",
     "text": [
      "{'loss': 2.3033, 'learning_rate': 1.3333333333333334e-06, 'epoch': 0.01}\n",
      "{'loss': 2.306, 'learning_rate': 2.666666666666667e-06, 'epoch': 0.02}\n",
      "{'loss': 2.3034, 'learning_rate': 4.000000000000001e-06, 'epoch': 0.02}\n",
      "{'loss': 2.3035, 'learning_rate': 5.333333333333334e-06, 'epoch': 0.03}\n",
      "{'loss': 2.3012, 'learning_rate': 6.666666666666667e-06, 'epoch': 0.04}\n",
      "{'loss': 2.3028, 'learning_rate': 8.000000000000001e-06, 'epoch': 0.05}\n",
      "{'loss': 2.3027, 'learning_rate': 9.333333333333334e-06, 'epoch': 0.06}\n",
      "{'loss': 2.3028, 'learning_rate': 1.0666666666666667e-05, 'epoch': 0.06}\n",
      "{'loss': 2.3018, 'learning_rate': 1.2e-05, 'epoch': 0.07}\n",
      "{'loss': 2.2992, 'learning_rate': 1.3333333333333333e-05, 'epoch': 0.08}\n",
      "{'loss': 2.2992, 'learning_rate': 1.4666666666666668e-05, 'epoch': 0.09}\n",
      "{'loss': 2.2995, 'learning_rate': 1.6000000000000003e-05, 'epoch': 0.1}\n",
      "{'loss': 2.2997, 'learning_rate': 1.7333333333333336e-05, 'epoch': 0.1}\n",
      "{'loss': 2.2959, 'learning_rate': 1.866666666666667e-05, 'epoch': 0.11}\n",
      "{'loss': 2.297, 'learning_rate': 2e-05, 'epoch': 0.12}\n",
      "{'loss': 2.296, 'learning_rate': 2.1333333333333335e-05, 'epoch': 0.13}\n",
      "{'loss': 2.2935, 'learning_rate': 2.2666666666666668e-05, 'epoch': 0.14}\n",
      "{'loss': 2.291, 'learning_rate': 2.4e-05, 'epoch': 0.14}\n",
      "{'loss': 2.2892, 'learning_rate': 2.5333333333333337e-05, 'epoch': 0.15}\n",
      "{'loss': 2.2868, 'learning_rate': 2.6666666666666667e-05, 'epoch': 0.16}\n",
      "{'loss': 2.2865, 'learning_rate': 2.8000000000000003e-05, 'epoch': 0.17}\n",
      "{'loss': 2.2857, 'learning_rate': 2.9333333333333336e-05, 'epoch': 0.18}\n",
      "{'loss': 2.2796, 'learning_rate': 3.066666666666667e-05, 'epoch': 0.18}\n",
      "{'loss': 2.2712, 'learning_rate': 3.2000000000000005e-05, 'epoch': 0.19}\n",
      "{'loss': 2.2642, 'learning_rate': 3.3333333333333335e-05, 'epoch': 0.2}\n",
      "{'loss': 2.2578, 'learning_rate': 3.466666666666667e-05, 'epoch': 0.21}\n",
      "{'loss': 2.2452, 'learning_rate': 3.6e-05, 'epoch': 0.22}\n",
      "{'loss': 2.232, 'learning_rate': 3.733333333333334e-05, 'epoch': 0.22}\n",
      "{'loss': 2.2177, 'learning_rate': 3.866666666666667e-05, 'epoch': 0.23}\n",
      "{'loss': 2.2041, 'learning_rate': 4e-05, 'epoch': 0.24}\n",
      "{'loss': 2.1828, 'learning_rate': 4.133333333333333e-05, 'epoch': 0.25}\n",
      "{'loss': 2.1626, 'learning_rate': 4.266666666666667e-05, 'epoch': 0.26}\n",
      "{'loss': 2.1479, 'learning_rate': 4.4000000000000006e-05, 'epoch': 0.26}\n",
      "{'loss': 2.1475, 'learning_rate': 4.5333333333333335e-05, 'epoch': 0.27}\n",
      "{'loss': 2.1139, 'learning_rate': 4.666666666666667e-05, 'epoch': 0.28}\n",
      "{'loss': 2.1233, 'learning_rate': 4.8e-05, 'epoch': 0.29}\n",
      "{'loss': 2.1192, 'learning_rate': 4.933333333333334e-05, 'epoch': 0.3}\n",
      "{'loss': 2.1118, 'learning_rate': 4.9925925925925926e-05, 'epoch': 0.3}\n",
      "{'loss': 2.1279, 'learning_rate': 4.977777777777778e-05, 'epoch': 0.31}\n",
      "{'loss': 2.1053, 'learning_rate': 4.962962962962963e-05, 'epoch': 0.32}\n",
      "{'loss': 2.0896, 'learning_rate': 4.9481481481481485e-05, 'epoch': 0.33}\n",
      "{'loss': 2.0645, 'learning_rate': 4.933333333333334e-05, 'epoch': 0.34}\n",
      "{'loss': 2.0375, 'learning_rate': 4.918518518518519e-05, 'epoch': 0.34}\n",
      "{'loss': 2.0592, 'learning_rate': 4.903703703703704e-05, 'epoch': 0.35}\n",
      "{'loss': 2.0618, 'learning_rate': 4.888888888888889e-05, 'epoch': 0.36}\n",
      "{'loss': 2.0506, 'learning_rate': 4.874074074074074e-05, 'epoch': 0.37}\n",
      "{'loss': 2.049, 'learning_rate': 4.8592592592592596e-05, 'epoch': 0.38}\n",
      "{'loss': 2.0142, 'learning_rate': 4.844444444444445e-05, 'epoch': 0.38}\n",
      "{'loss': 2.0488, 'learning_rate': 4.82962962962963e-05, 'epoch': 0.39}\n",
      "{'loss': 2.0093, 'learning_rate': 4.814814814814815e-05, 'epoch': 0.4}\n",
      "{'loss': 2.0012, 'learning_rate': 4.8e-05, 'epoch': 0.41}\n",
      "{'loss': 1.9801, 'learning_rate': 4.7851851851851854e-05, 'epoch': 0.42}\n",
      "{'loss': 1.9694, 'learning_rate': 4.770370370370371e-05, 'epoch': 0.42}\n",
      "{'loss': 1.9852, 'learning_rate': 4.755555555555556e-05, 'epoch': 0.43}\n",
      "{'loss': 1.961, 'learning_rate': 4.740740740740741e-05, 'epoch': 0.44}\n",
      "{'loss': 1.9552, 'learning_rate': 4.7259259259259266e-05, 'epoch': 0.45}\n",
      "{'loss': 1.9805, 'learning_rate': 4.711111111111111e-05, 'epoch': 0.46}\n",
      "{'loss': 1.9444, 'learning_rate': 4.6962962962962966e-05, 'epoch': 0.46}\n",
      "{'loss': 1.9805, 'learning_rate': 4.681481481481482e-05, 'epoch': 0.47}\n",
      "{'loss': 1.9573, 'learning_rate': 4.666666666666667e-05, 'epoch': 0.48}\n",
      "{'loss': 1.9701, 'learning_rate': 4.6518518518518525e-05, 'epoch': 0.49}\n",
      "{'loss': 1.9436, 'learning_rate': 4.637037037037038e-05, 'epoch': 0.5}\n",
      "{'loss': 1.9725, 'learning_rate': 4.6222222222222224e-05, 'epoch': 0.5}\n",
      "{'loss': 1.9537, 'learning_rate': 4.607407407407408e-05, 'epoch': 0.51}\n",
      "{'loss': 1.9387, 'learning_rate': 4.592592592592593e-05, 'epoch': 0.52}\n",
      "{'loss': 1.9379, 'learning_rate': 4.577777777777778e-05, 'epoch': 0.53}\n",
      "{'loss': 1.9058, 'learning_rate': 4.5629629629629636e-05, 'epoch': 0.54}\n",
      "{'loss': 1.9678, 'learning_rate': 4.548148148148149e-05, 'epoch': 0.54}\n",
      "{'loss': 1.9465, 'learning_rate': 4.5333333333333335e-05, 'epoch': 0.55}\n",
      "{'loss': 1.9455, 'learning_rate': 4.518518518518519e-05, 'epoch': 0.56}\n",
      "{'loss': 1.9159, 'learning_rate': 4.503703703703704e-05, 'epoch': 0.57}\n",
      "{'loss': 1.9587, 'learning_rate': 4.4888888888888894e-05, 'epoch': 0.58}\n",
      "{'loss': 1.9328, 'learning_rate': 4.474074074074075e-05, 'epoch': 0.58}\n",
      "{'loss': 1.9064, 'learning_rate': 4.4592592592592594e-05, 'epoch': 0.59}\n",
      "{'loss': 1.929, 'learning_rate': 4.4444444444444447e-05, 'epoch': 0.6}\n",
      "{'loss': 1.9453, 'learning_rate': 4.42962962962963e-05, 'epoch': 0.61}\n",
      "{'loss': 1.9193, 'learning_rate': 4.414814814814815e-05, 'epoch': 0.62}\n",
      "{'loss': 1.9437, 'learning_rate': 4.4000000000000006e-05, 'epoch': 0.62}\n",
      "{'loss': 1.8806, 'learning_rate': 4.385185185185185e-05, 'epoch': 0.63}\n",
      "{'loss': 1.9325, 'learning_rate': 4.3703703703703705e-05, 'epoch': 0.64}\n",
      "{'loss': 1.8757, 'learning_rate': 4.355555555555556e-05, 'epoch': 0.65}\n",
      "{'loss': 1.8899, 'learning_rate': 4.340740740740741e-05, 'epoch': 0.66}\n",
      "{'loss': 1.9094, 'learning_rate': 4.325925925925926e-05, 'epoch': 0.66}\n",
      "{'loss': 1.8914, 'learning_rate': 4.311111111111111e-05, 'epoch': 0.67}\n",
      "{'loss': 1.8536, 'learning_rate': 4.296296296296296e-05, 'epoch': 0.68}\n",
      "{'loss': 1.8735, 'learning_rate': 4.2814814814814816e-05, 'epoch': 0.69}\n",
      "{'loss': 1.877, 'learning_rate': 4.266666666666667e-05, 'epoch': 0.7}\n",
      "{'loss': 1.8975, 'learning_rate': 4.2518518518518515e-05, 'epoch': 0.7}\n",
      "{'loss': 1.8919, 'learning_rate': 4.237037037037037e-05, 'epoch': 0.71}\n",
      "{'loss': 1.8752, 'learning_rate': 4.222222222222222e-05, 'epoch': 0.72}\n",
      "{'loss': 1.8982, 'learning_rate': 4.2074074074074075e-05, 'epoch': 0.73}\n",
      "{'loss': 1.8643, 'learning_rate': 4.192592592592593e-05, 'epoch': 0.74}\n",
      "{'loss': 1.8717, 'learning_rate': 4.177777777777778e-05, 'epoch': 0.74}\n",
      "{'loss': 1.8705, 'learning_rate': 4.162962962962963e-05, 'epoch': 0.75}\n",
      "{'loss': 1.8996, 'learning_rate': 4.148148148148148e-05, 'epoch': 0.76}\n",
      "{'loss': 1.8702, 'learning_rate': 4.133333333333333e-05, 'epoch': 0.77}\n",
      "{'loss': 1.875, 'learning_rate': 4.1185185185185186e-05, 'epoch': 0.78}\n",
      "{'loss': 1.8945, 'learning_rate': 4.103703703703704e-05, 'epoch': 0.78}\n",
      "{'loss': 1.8583, 'learning_rate': 4.088888888888889e-05, 'epoch': 0.79}\n",
      "{'loss': 1.8882, 'learning_rate': 4.074074074074074e-05, 'epoch': 0.8}\n",
      "{'loss': 1.9007, 'learning_rate': 4.059259259259259e-05, 'epoch': 0.81}\n",
      "{'loss': 1.8887, 'learning_rate': 4.0444444444444444e-05, 'epoch': 0.82}\n",
      "{'loss': 1.8685, 'learning_rate': 4.02962962962963e-05, 'epoch': 0.82}\n",
      "{'loss': 1.8363, 'learning_rate': 4.014814814814815e-05, 'epoch': 0.83}\n",
      "{'loss': 1.8598, 'learning_rate': 4e-05, 'epoch': 0.84}\n",
      "{'loss': 1.8567, 'learning_rate': 3.985185185185185e-05, 'epoch': 0.85}\n",
      "{'loss': 1.8864, 'learning_rate': 3.97037037037037e-05, 'epoch': 0.86}\n",
      "{'loss': 1.8755, 'learning_rate': 3.9555555555555556e-05, 'epoch': 0.86}\n",
      "{'loss': 1.8947, 'learning_rate': 3.940740740740741e-05, 'epoch': 0.87}\n",
      "{'loss': 1.8742, 'learning_rate': 3.925925925925926e-05, 'epoch': 0.88}\n",
      "{'loss': 1.8533, 'learning_rate': 3.9111111111111115e-05, 'epoch': 0.89}\n",
      "{'loss': 1.8986, 'learning_rate': 3.896296296296296e-05, 'epoch': 0.9}\n",
      "{'loss': 1.8517, 'learning_rate': 3.8814814814814814e-05, 'epoch': 0.9}\n",
      "{'loss': 1.8293, 'learning_rate': 3.866666666666667e-05, 'epoch': 0.91}\n",
      "{'loss': 1.889, 'learning_rate': 3.851851851851852e-05, 'epoch': 0.92}\n",
      "{'loss': 1.9137, 'learning_rate': 3.837037037037037e-05, 'epoch': 0.93}\n",
      "{'loss': 1.8842, 'learning_rate': 3.8222222222222226e-05, 'epoch': 0.94}\n",
      "{'loss': 1.9183, 'learning_rate': 3.807407407407408e-05, 'epoch': 0.94}\n",
      "{'loss': 1.8194, 'learning_rate': 3.7925925925925925e-05, 'epoch': 0.95}\n",
      "{'loss': 1.8819, 'learning_rate': 3.777777777777778e-05, 'epoch': 0.96}\n",
      "{'loss': 1.8862, 'learning_rate': 3.762962962962963e-05, 'epoch': 0.97}\n",
      "{'loss': 1.8851, 'learning_rate': 3.7481481481481484e-05, 'epoch': 0.98}\n",
      "{'loss': 1.8589, 'learning_rate': 3.733333333333334e-05, 'epoch': 0.98}\n",
      "{'loss': 1.8547, 'learning_rate': 3.718518518518519e-05, 'epoch': 0.99}\n",
      "{'loss': 1.8647, 'learning_rate': 3.7037037037037037e-05, 'epoch': 1.0}\n"
     ]
    },
    {
     "data": {
      "application/vnd.jupyter.widget-view+json": {
       "model_id": "4d4ea30d4d6c4c1c9a8209a75ff919d8",
       "version_major": 2,
       "version_minor": 0
      },
      "text/plain": [
       "  0%|          | 0/1250 [00:00<?, ?it/s]"
      ]
     },
     "metadata": {},
     "output_type": "display_data"
    },
    {
     "name": "stdout",
     "output_type": "stream",
     "text": [
      "{'eval_loss': 1.7926234006881714, 'eval_accuracy': 0.6835, 'eval_runtime': 40.1252, 'eval_samples_per_second': 249.22, 'eval_steps_per_second': 31.152, 'epoch': 1.0}\n",
      "{'loss': 1.8565, 'learning_rate': 3.688888888888889e-05, 'epoch': 1.01}\n",
      "{'loss': 1.8673, 'learning_rate': 3.674074074074074e-05, 'epoch': 1.02}\n",
      "{'loss': 1.8376, 'learning_rate': 3.6592592592592596e-05, 'epoch': 1.02}\n",
      "{'loss': 1.8554, 'learning_rate': 3.644444444444445e-05, 'epoch': 1.03}\n",
      "{'loss': 1.8792, 'learning_rate': 3.62962962962963e-05, 'epoch': 1.04}\n",
      "{'loss': 1.834, 'learning_rate': 3.614814814814815e-05, 'epoch': 1.05}\n",
      "{'loss': 1.8633, 'learning_rate': 3.6e-05, 'epoch': 1.06}\n",
      "{'loss': 1.8684, 'learning_rate': 3.5851851851851854e-05, 'epoch': 1.06}\n",
      "{'loss': 1.8656, 'learning_rate': 3.570370370370371e-05, 'epoch': 1.07}\n",
      "{'loss': 1.8156, 'learning_rate': 3.555555555555556e-05, 'epoch': 1.08}\n",
      "{'loss': 1.8627, 'learning_rate': 3.540740740740741e-05, 'epoch': 1.09}\n",
      "{'loss': 1.8759, 'learning_rate': 3.525925925925926e-05, 'epoch': 1.1}\n",
      "{'loss': 1.8528, 'learning_rate': 3.511111111111111e-05, 'epoch': 1.1}\n",
      "{'loss': 1.8528, 'learning_rate': 3.4962962962962965e-05, 'epoch': 1.11}\n",
      "{'loss': 1.8822, 'learning_rate': 3.481481481481482e-05, 'epoch': 1.12}\n",
      "{'loss': 1.8558, 'learning_rate': 3.466666666666667e-05, 'epoch': 1.13}\n",
      "{'loss': 1.848, 'learning_rate': 3.4518518518518524e-05, 'epoch': 1.14}\n",
      "{'loss': 1.8719, 'learning_rate': 3.437037037037037e-05, 'epoch': 1.14}\n",
      "{'loss': 1.8622, 'learning_rate': 3.4222222222222224e-05, 'epoch': 1.15}\n",
      "{'loss': 1.833, 'learning_rate': 3.4074074074074077e-05, 'epoch': 1.16}\n",
      "{'loss': 1.8537, 'learning_rate': 3.392592592592593e-05, 'epoch': 1.17}\n",
      "{'loss': 1.8675, 'learning_rate': 3.377777777777778e-05, 'epoch': 1.18}\n",
      "{'loss': 1.8216, 'learning_rate': 3.3629629629629636e-05, 'epoch': 1.18}\n",
      "{'loss': 1.8177, 'learning_rate': 3.348148148148148e-05, 'epoch': 1.19}\n",
      "{'loss': 1.8553, 'learning_rate': 3.3333333333333335e-05, 'epoch': 1.2}\n",
      "{'loss': 1.8178, 'learning_rate': 3.318518518518519e-05, 'epoch': 1.21}\n",
      "{'loss': 1.8296, 'learning_rate': 3.303703703703704e-05, 'epoch': 1.22}\n",
      "{'loss': 1.8473, 'learning_rate': 3.2888888888888894e-05, 'epoch': 1.22}\n",
      "{'loss': 1.8278, 'learning_rate': 3.274074074074075e-05, 'epoch': 1.23}\n",
      "{'loss': 1.8488, 'learning_rate': 3.25925925925926e-05, 'epoch': 1.24}\n",
      "{'loss': 1.8183, 'learning_rate': 3.2444444444444446e-05, 'epoch': 1.25}\n",
      "{'loss': 1.8643, 'learning_rate': 3.22962962962963e-05, 'epoch': 1.26}\n",
      "{'loss': 1.8328, 'learning_rate': 3.214814814814815e-05, 'epoch': 1.26}\n",
      "{'loss': 1.8341, 'learning_rate': 3.2000000000000005e-05, 'epoch': 1.27}\n",
      "{'loss': 1.8525, 'learning_rate': 3.185185185185185e-05, 'epoch': 1.28}\n",
      "{'loss': 1.8299, 'learning_rate': 3.1703703703703705e-05, 'epoch': 1.29}\n",
      "{'loss': 1.8133, 'learning_rate': 3.155555555555556e-05, 'epoch': 1.3}\n",
      "{'loss': 1.8411, 'learning_rate': 3.140740740740741e-05, 'epoch': 1.3}\n",
      "{'loss': 1.8554, 'learning_rate': 3.1259259259259264e-05, 'epoch': 1.31}\n",
      "{'loss': 1.8618, 'learning_rate': 3.111111111111111e-05, 'epoch': 1.32}\n",
      "{'loss': 1.8235, 'learning_rate': 3.096296296296296e-05, 'epoch': 1.33}\n",
      "{'loss': 1.8219, 'learning_rate': 3.0814814814814816e-05, 'epoch': 1.34}\n",
      "{'loss': 1.8318, 'learning_rate': 3.066666666666667e-05, 'epoch': 1.34}\n",
      "{'loss': 1.8471, 'learning_rate': 3.0518518518518515e-05, 'epoch': 1.35}\n",
      "{'loss': 1.852, 'learning_rate': 3.037037037037037e-05, 'epoch': 1.36}\n",
      "{'loss': 1.8322, 'learning_rate': 3.0222222222222225e-05, 'epoch': 1.37}\n",
      "{'loss': 1.8554, 'learning_rate': 3.0074074074074078e-05, 'epoch': 1.38}\n",
      "{'loss': 1.8395, 'learning_rate': 2.992592592592593e-05, 'epoch': 1.38}\n",
      "{'loss': 1.8514, 'learning_rate': 2.9777777777777777e-05, 'epoch': 1.39}\n",
      "{'loss': 1.8543, 'learning_rate': 2.962962962962963e-05, 'epoch': 1.4}\n",
      "{'loss': 1.8485, 'learning_rate': 2.9481481481481483e-05, 'epoch': 1.41}\n",
      "{'loss': 1.8167, 'learning_rate': 2.9333333333333336e-05, 'epoch': 1.42}\n",
      "{'loss': 1.842, 'learning_rate': 2.918518518518519e-05, 'epoch': 1.42}\n",
      "{'loss': 1.8291, 'learning_rate': 2.9037037037037042e-05, 'epoch': 1.43}\n",
      "{'loss': 1.8488, 'learning_rate': 2.8888888888888888e-05, 'epoch': 1.44}\n",
      "{'loss': 1.8552, 'learning_rate': 2.874074074074074e-05, 'epoch': 1.45}\n",
      "{'loss': 1.8299, 'learning_rate': 2.8592592592592594e-05, 'epoch': 1.46}\n",
      "{'loss': 1.8272, 'learning_rate': 2.8444444444444447e-05, 'epoch': 1.46}\n",
      "{'loss': 1.8409, 'learning_rate': 2.8296296296296297e-05, 'epoch': 1.47}\n",
      "{'loss': 1.8056, 'learning_rate': 2.814814814814815e-05, 'epoch': 1.48}\n",
      "{'loss': 1.8366, 'learning_rate': 2.8000000000000003e-05, 'epoch': 1.49}\n",
      "{'loss': 1.8393, 'learning_rate': 2.7851851851851853e-05, 'epoch': 1.5}\n",
      "{'loss': 1.8431, 'learning_rate': 2.7703703703703706e-05, 'epoch': 1.5}\n",
      "{'loss': 1.8394, 'learning_rate': 2.7555555555555555e-05, 'epoch': 1.51}\n",
      "{'loss': 1.8338, 'learning_rate': 2.7407407407407408e-05, 'epoch': 1.52}\n",
      "{'loss': 1.8348, 'learning_rate': 2.725925925925926e-05, 'epoch': 1.53}\n",
      "{'loss': 1.8365, 'learning_rate': 2.7111111111111114e-05, 'epoch': 1.54}\n",
      "{'loss': 1.8182, 'learning_rate': 2.696296296296296e-05, 'epoch': 1.54}\n",
      "{'loss': 1.8156, 'learning_rate': 2.6814814814814814e-05, 'epoch': 1.55}\n",
      "{'loss': 1.8424, 'learning_rate': 2.6666666666666667e-05, 'epoch': 1.56}\n",
      "{'loss': 1.8089, 'learning_rate': 2.651851851851852e-05, 'epoch': 1.57}\n",
      "{'loss': 1.8369, 'learning_rate': 2.6370370370370373e-05, 'epoch': 1.58}\n",
      "{'loss': 1.8026, 'learning_rate': 2.6222222222222226e-05, 'epoch': 1.58}\n",
      "{'loss': 1.8425, 'learning_rate': 2.6074074074074072e-05, 'epoch': 1.59}\n",
      "{'loss': 1.839, 'learning_rate': 2.5925925925925925e-05, 'epoch': 1.6}\n",
      "{'loss': 1.8317, 'learning_rate': 2.5777777777777778e-05, 'epoch': 1.61}\n",
      "{'loss': 1.7736, 'learning_rate': 2.562962962962963e-05, 'epoch': 1.62}\n",
      "{'loss': 1.7951, 'learning_rate': 2.5481481481481484e-05, 'epoch': 1.62}\n",
      "{'loss': 1.8219, 'learning_rate': 2.5333333333333337e-05, 'epoch': 1.63}\n",
      "{'loss': 1.8209, 'learning_rate': 2.5185185185185183e-05, 'epoch': 1.64}\n",
      "{'loss': 1.8038, 'learning_rate': 2.5037037037037036e-05, 'epoch': 1.65}\n",
      "{'loss': 1.8431, 'learning_rate': 2.488888888888889e-05, 'epoch': 1.66}\n",
      "{'loss': 1.8031, 'learning_rate': 2.4740740740740742e-05, 'epoch': 1.66}\n",
      "{'loss': 1.8338, 'learning_rate': 2.4592592592592595e-05, 'epoch': 1.67}\n",
      "{'loss': 1.8196, 'learning_rate': 2.4444444444444445e-05, 'epoch': 1.68}\n",
      "{'loss': 1.7912, 'learning_rate': 2.4296296296296298e-05, 'epoch': 1.69}\n",
      "{'loss': 1.7878, 'learning_rate': 2.414814814814815e-05, 'epoch': 1.7}\n",
      "{'loss': 1.8117, 'learning_rate': 2.4e-05, 'epoch': 1.7}\n",
      "{'loss': 1.8087, 'learning_rate': 2.3851851851851854e-05, 'epoch': 1.71}\n",
      "{'loss': 1.7968, 'learning_rate': 2.3703703703703707e-05, 'epoch': 1.72}\n",
      "{'loss': 1.8017, 'learning_rate': 2.3555555555555556e-05, 'epoch': 1.73}\n",
      "{'loss': 1.7551, 'learning_rate': 2.340740740740741e-05, 'epoch': 1.74}\n",
      "{'loss': 1.8096, 'learning_rate': 2.3259259259259262e-05, 'epoch': 1.74}\n",
      "{'loss': 1.8114, 'learning_rate': 2.3111111111111112e-05, 'epoch': 1.75}\n",
      "{'loss': 1.812, 'learning_rate': 2.2962962962962965e-05, 'epoch': 1.76}\n",
      "{'loss': 1.8095, 'learning_rate': 2.2814814814814818e-05, 'epoch': 1.77}\n",
      "{'loss': 1.8024, 'learning_rate': 2.2666666666666668e-05, 'epoch': 1.78}\n",
      "{'loss': 1.7899, 'learning_rate': 2.251851851851852e-05, 'epoch': 1.78}\n",
      "{'loss': 1.8143, 'learning_rate': 2.2370370370370374e-05, 'epoch': 1.79}\n",
      "{'loss': 1.8175, 'learning_rate': 2.2222222222222223e-05, 'epoch': 1.8}\n",
      "{'loss': 1.8476, 'learning_rate': 2.2074074074074076e-05, 'epoch': 1.81}\n",
      "{'loss': 1.8089, 'learning_rate': 2.1925925925925926e-05, 'epoch': 1.82}\n",
      "{'loss': 1.799, 'learning_rate': 2.177777777777778e-05, 'epoch': 1.82}\n",
      "{'loss': 1.8234, 'learning_rate': 2.162962962962963e-05, 'epoch': 1.83}\n",
      "{'loss': 1.7714, 'learning_rate': 2.148148148148148e-05, 'epoch': 1.84}\n",
      "{'loss': 1.8115, 'learning_rate': 2.1333333333333335e-05, 'epoch': 1.85}\n",
      "{'loss': 1.8013, 'learning_rate': 2.1185185185185184e-05, 'epoch': 1.86}\n",
      "{'loss': 1.8073, 'learning_rate': 2.1037037037037037e-05, 'epoch': 1.86}\n",
      "{'loss': 1.8083, 'learning_rate': 2.088888888888889e-05, 'epoch': 1.87}\n",
      "{'loss': 1.8107, 'learning_rate': 2.074074074074074e-05, 'epoch': 1.88}\n",
      "{'loss': 1.7943, 'learning_rate': 2.0592592592592593e-05, 'epoch': 1.89}\n",
      "{'loss': 1.7991, 'learning_rate': 2.0444444444444446e-05, 'epoch': 1.9}\n",
      "{'loss': 1.8278, 'learning_rate': 2.0296296296296296e-05, 'epoch': 1.9}\n",
      "{'loss': 1.7874, 'learning_rate': 2.014814814814815e-05, 'epoch': 1.91}\n",
      "{'loss': 1.8228, 'learning_rate': 2e-05, 'epoch': 1.92}\n",
      "{'loss': 1.8149, 'learning_rate': 1.985185185185185e-05, 'epoch': 1.93}\n",
      "{'loss': 1.8046, 'learning_rate': 1.9703703703703704e-05, 'epoch': 1.94}\n",
      "{'loss': 1.7664, 'learning_rate': 1.9555555555555557e-05, 'epoch': 1.94}\n",
      "{'loss': 1.7925, 'learning_rate': 1.9407407407407407e-05, 'epoch': 1.95}\n",
      "{'loss': 1.7681, 'learning_rate': 1.925925925925926e-05, 'epoch': 1.96}\n",
      "{'loss': 1.7613, 'learning_rate': 1.9111111111111113e-05, 'epoch': 1.97}\n",
      "{'loss': 1.8116, 'learning_rate': 1.8962962962962963e-05, 'epoch': 1.98}\n",
      "{'loss': 1.8476, 'learning_rate': 1.8814814814814816e-05, 'epoch': 1.98}\n",
      "{'loss': 1.7907, 'learning_rate': 1.866666666666667e-05, 'epoch': 1.99}\n",
      "{'loss': 1.8069, 'learning_rate': 1.8518518518518518e-05, 'epoch': 2.0}\n"
     ]
    },
    {
     "data": {
      "application/vnd.jupyter.widget-view+json": {
       "model_id": "3d0b9ba475da4c42a0111491970cdc4a",
       "version_major": 2,
       "version_minor": 0
      },
      "text/plain": [
       "  0%|          | 0/1250 [00:00<?, ?it/s]"
      ]
     },
     "metadata": {},
     "output_type": "display_data"
    },
    {
     "name": "stdout",
     "output_type": "stream",
     "text": [
      "{'eval_loss': 1.7647517919540405, 'eval_accuracy': 0.7112, 'eval_runtime': 39.7623, 'eval_samples_per_second': 251.495, 'eval_steps_per_second': 31.437, 'epoch': 2.0}\n",
      "{'loss': 1.7673, 'learning_rate': 1.837037037037037e-05, 'epoch': 2.01}\n",
      "{'loss': 1.7884, 'learning_rate': 1.8222222222222224e-05, 'epoch': 2.02}\n",
      "{'loss': 1.7649, 'learning_rate': 1.8074074074074074e-05, 'epoch': 2.02}\n",
      "{'loss': 1.8183, 'learning_rate': 1.7925925925925927e-05, 'epoch': 2.03}\n",
      "{'loss': 1.8143, 'learning_rate': 1.777777777777778e-05, 'epoch': 2.04}\n",
      "{'loss': 1.7723, 'learning_rate': 1.762962962962963e-05, 'epoch': 2.05}\n",
      "{'loss': 1.8077, 'learning_rate': 1.7481481481481483e-05, 'epoch': 2.06}\n",
      "{'loss': 1.7518, 'learning_rate': 1.7333333333333336e-05, 'epoch': 2.06}\n",
      "{'loss': 1.7926, 'learning_rate': 1.7185185185185185e-05, 'epoch': 2.07}\n",
      "{'loss': 1.8219, 'learning_rate': 1.7037037037037038e-05, 'epoch': 2.08}\n",
      "{'loss': 1.7968, 'learning_rate': 1.688888888888889e-05, 'epoch': 2.09}\n",
      "{'loss': 1.8083, 'learning_rate': 1.674074074074074e-05, 'epoch': 2.1}\n",
      "{'loss': 1.7879, 'learning_rate': 1.6592592592592594e-05, 'epoch': 2.1}\n",
      "{'loss': 1.7851, 'learning_rate': 1.6444444444444447e-05, 'epoch': 2.11}\n",
      "{'loss': 1.8219, 'learning_rate': 1.62962962962963e-05, 'epoch': 2.12}\n",
      "{'loss': 1.8231, 'learning_rate': 1.614814814814815e-05, 'epoch': 2.13}\n",
      "{'loss': 1.8294, 'learning_rate': 1.6000000000000003e-05, 'epoch': 2.14}\n",
      "{'loss': 1.8126, 'learning_rate': 1.5851851851851852e-05, 'epoch': 2.14}\n",
      "{'loss': 1.831, 'learning_rate': 1.5703703703703705e-05, 'epoch': 2.15}\n",
      "{'loss': 1.8134, 'learning_rate': 1.5555555555555555e-05, 'epoch': 2.16}\n",
      "{'loss': 1.7782, 'learning_rate': 1.5407407407407408e-05, 'epoch': 2.17}\n",
      "{'loss': 1.7703, 'learning_rate': 1.5259259259259258e-05, 'epoch': 2.18}\n",
      "{'loss': 1.794, 'learning_rate': 1.5111111111111112e-05, 'epoch': 2.18}\n",
      "{'loss': 1.8048, 'learning_rate': 1.4962962962962965e-05, 'epoch': 2.19}\n",
      "{'loss': 1.8017, 'learning_rate': 1.4814814814814815e-05, 'epoch': 2.2}\n",
      "{'loss': 1.7912, 'learning_rate': 1.4666666666666668e-05, 'epoch': 2.21}\n",
      "{'loss': 1.7891, 'learning_rate': 1.4518518518518521e-05, 'epoch': 2.22}\n",
      "{'loss': 1.8177, 'learning_rate': 1.437037037037037e-05, 'epoch': 2.22}\n",
      "{'loss': 1.7492, 'learning_rate': 1.4222222222222224e-05, 'epoch': 2.23}\n",
      "{'loss': 1.823, 'learning_rate': 1.4074074074074075e-05, 'epoch': 2.24}\n",
      "{'loss': 1.7535, 'learning_rate': 1.3925925925925926e-05, 'epoch': 2.25}\n",
      "{'loss': 1.8172, 'learning_rate': 1.3777777777777778e-05, 'epoch': 2.26}\n",
      "{'loss': 1.7626, 'learning_rate': 1.362962962962963e-05, 'epoch': 2.26}\n",
      "{'loss': 1.7535, 'learning_rate': 1.348148148148148e-05, 'epoch': 2.27}\n",
      "{'loss': 1.8011, 'learning_rate': 1.3333333333333333e-05, 'epoch': 2.28}\n",
      "{'loss': 1.8007, 'learning_rate': 1.3185185185185186e-05, 'epoch': 2.29}\n",
      "{'loss': 1.7876, 'learning_rate': 1.3037037037037036e-05, 'epoch': 2.3}\n",
      "{'loss': 1.7688, 'learning_rate': 1.2888888888888889e-05, 'epoch': 2.3}\n",
      "{'loss': 1.7793, 'learning_rate': 1.2740740740740742e-05, 'epoch': 2.31}\n",
      "{'loss': 1.7768, 'learning_rate': 1.2592592592592592e-05, 'epoch': 2.32}\n",
      "{'loss': 1.833, 'learning_rate': 1.2444444444444445e-05, 'epoch': 2.33}\n",
      "{'loss': 1.7752, 'learning_rate': 1.2296296296296298e-05, 'epoch': 2.34}\n",
      "{'loss': 1.7967, 'learning_rate': 1.2148148148148149e-05, 'epoch': 2.34}\n",
      "{'loss': 1.8018, 'learning_rate': 1.2e-05, 'epoch': 2.35}\n",
      "{'loss': 1.7672, 'learning_rate': 1.1851851851851853e-05, 'epoch': 2.36}\n",
      "{'loss': 1.8111, 'learning_rate': 1.1703703703703705e-05, 'epoch': 2.37}\n",
      "{'loss': 1.7556, 'learning_rate': 1.1555555555555556e-05, 'epoch': 2.38}\n",
      "{'loss': 1.7856, 'learning_rate': 1.1407407407407409e-05, 'epoch': 2.38}\n",
      "{'loss': 1.8155, 'learning_rate': 1.125925925925926e-05, 'epoch': 2.39}\n",
      "{'loss': 1.7951, 'learning_rate': 1.1111111111111112e-05, 'epoch': 2.4}\n",
      "{'loss': 1.782, 'learning_rate': 1.0962962962962963e-05, 'epoch': 2.41}\n",
      "{'loss': 1.7878, 'learning_rate': 1.0814814814814814e-05, 'epoch': 2.42}\n",
      "{'loss': 1.7853, 'learning_rate': 1.0666666666666667e-05, 'epoch': 2.42}\n",
      "{'loss': 1.8243, 'learning_rate': 1.0518518518518519e-05, 'epoch': 2.43}\n",
      "{'loss': 1.7769, 'learning_rate': 1.037037037037037e-05, 'epoch': 2.44}\n",
      "{'loss': 1.784, 'learning_rate': 1.0222222222222223e-05, 'epoch': 2.45}\n",
      "{'loss': 1.7678, 'learning_rate': 1.0074074074074074e-05, 'epoch': 2.46}\n",
      "{'loss': 1.7866, 'learning_rate': 9.925925925925926e-06, 'epoch': 2.46}\n",
      "{'loss': 1.777, 'learning_rate': 9.777777777777779e-06, 'epoch': 2.47}\n",
      "{'loss': 1.7319, 'learning_rate': 9.62962962962963e-06, 'epoch': 2.48}\n",
      "{'loss': 1.8139, 'learning_rate': 9.481481481481481e-06, 'epoch': 2.49}\n",
      "{'loss': 1.7719, 'learning_rate': 9.333333333333334e-06, 'epoch': 2.5}\n",
      "{'loss': 1.7869, 'learning_rate': 9.185185185185186e-06, 'epoch': 2.5}\n",
      "{'loss': 1.8069, 'learning_rate': 9.037037037037037e-06, 'epoch': 2.51}\n",
      "{'loss': 1.7506, 'learning_rate': 8.88888888888889e-06, 'epoch': 2.52}\n",
      "{'loss': 1.7771, 'learning_rate': 8.740740740740741e-06, 'epoch': 2.53}\n",
      "{'loss': 1.7593, 'learning_rate': 8.592592592592593e-06, 'epoch': 2.54}\n",
      "{'loss': 1.7746, 'learning_rate': 8.444444444444446e-06, 'epoch': 2.54}\n",
      "{'loss': 1.8051, 'learning_rate': 8.296296296296297e-06, 'epoch': 2.55}\n",
      "{'loss': 1.7801, 'learning_rate': 8.14814814814815e-06, 'epoch': 2.56}\n",
      "{'loss': 1.7653, 'learning_rate': 8.000000000000001e-06, 'epoch': 2.57}\n",
      "{'loss': 1.8066, 'learning_rate': 7.851851851851853e-06, 'epoch': 2.58}\n",
      "{'loss': 1.7822, 'learning_rate': 7.703703703703704e-06, 'epoch': 2.58}\n",
      "{'loss': 1.7872, 'learning_rate': 7.555555555555556e-06, 'epoch': 2.59}\n",
      "{'loss': 1.773, 'learning_rate': 7.4074074074074075e-06, 'epoch': 2.6}\n",
      "{'loss': 1.7345, 'learning_rate': 7.2592592592592605e-06, 'epoch': 2.61}\n",
      "{'loss': 1.8106, 'learning_rate': 7.111111111111112e-06, 'epoch': 2.62}\n",
      "{'loss': 1.7911, 'learning_rate': 6.962962962962963e-06, 'epoch': 2.62}\n",
      "{'loss': 1.7645, 'learning_rate': 6.814814814814815e-06, 'epoch': 2.63}\n",
      "{'loss': 1.7929, 'learning_rate': 6.666666666666667e-06, 'epoch': 2.64}\n",
      "{'loss': 1.7764, 'learning_rate': 6.518518518518518e-06, 'epoch': 2.65}\n",
      "{'loss': 1.8157, 'learning_rate': 6.370370370370371e-06, 'epoch': 2.66}\n",
      "{'loss': 1.7291, 'learning_rate': 6.222222222222222e-06, 'epoch': 2.66}\n",
      "{'loss': 1.7726, 'learning_rate': 6.0740740740740745e-06, 'epoch': 2.67}\n",
      "{'loss': 1.8118, 'learning_rate': 5.925925925925927e-06, 'epoch': 2.68}\n",
      "{'loss': 1.7818, 'learning_rate': 5.777777777777778e-06, 'epoch': 2.69}\n",
      "{'loss': 1.7858, 'learning_rate': 5.62962962962963e-06, 'epoch': 2.7}\n",
      "{'loss': 1.8008, 'learning_rate': 5.4814814814814815e-06, 'epoch': 2.7}\n",
      "{'loss': 1.792, 'learning_rate': 5.333333333333334e-06, 'epoch': 2.71}\n",
      "{'loss': 1.7889, 'learning_rate': 5.185185185185185e-06, 'epoch': 2.72}\n",
      "{'loss': 1.811, 'learning_rate': 5.037037037037037e-06, 'epoch': 2.73}\n",
      "{'loss': 1.811, 'learning_rate': 4.888888888888889e-06, 'epoch': 2.74}\n",
      "{'loss': 1.799, 'learning_rate': 4.740740740740741e-06, 'epoch': 2.74}\n",
      "{'loss': 1.7565, 'learning_rate': 4.592592592592593e-06, 'epoch': 2.75}\n",
      "{'loss': 1.7776, 'learning_rate': 4.444444444444445e-06, 'epoch': 2.76}\n",
      "{'loss': 1.7613, 'learning_rate': 4.296296296296296e-06, 'epoch': 2.77}\n",
      "{'loss': 1.8075, 'learning_rate': 4.1481481481481485e-06, 'epoch': 2.78}\n",
      "{'loss': 1.787, 'learning_rate': 4.000000000000001e-06, 'epoch': 2.78}\n",
      "{'loss': 1.7845, 'learning_rate': 3.851851851851852e-06, 'epoch': 2.79}\n",
      "{'loss': 1.7995, 'learning_rate': 3.7037037037037037e-06, 'epoch': 2.8}\n",
      "{'loss': 1.7951, 'learning_rate': 3.555555555555556e-06, 'epoch': 2.81}\n",
      "{'loss': 1.74, 'learning_rate': 3.4074074074074077e-06, 'epoch': 2.82}\n",
      "{'loss': 1.779, 'learning_rate': 3.259259259259259e-06, 'epoch': 2.82}\n",
      "{'loss': 1.7596, 'learning_rate': 3.111111111111111e-06, 'epoch': 2.83}\n",
      "{'loss': 1.7896, 'learning_rate': 2.9629629629629633e-06, 'epoch': 2.84}\n",
      "{'loss': 1.8104, 'learning_rate': 2.814814814814815e-06, 'epoch': 2.85}\n",
      "{'loss': 1.8133, 'learning_rate': 2.666666666666667e-06, 'epoch': 2.86}\n",
      "{'loss': 1.7803, 'learning_rate': 2.5185185185185186e-06, 'epoch': 2.86}\n",
      "{'loss': 1.7997, 'learning_rate': 2.3703703703703703e-06, 'epoch': 2.87}\n",
      "{'loss': 1.751, 'learning_rate': 2.2222222222222225e-06, 'epoch': 2.88}\n",
      "{'loss': 1.7901, 'learning_rate': 2.0740740740740742e-06, 'epoch': 2.89}\n",
      "{'loss': 1.8136, 'learning_rate': 1.925925925925926e-06, 'epoch': 2.9}\n",
      "{'loss': 1.7619, 'learning_rate': 1.777777777777778e-06, 'epoch': 2.9}\n",
      "{'loss': 1.7651, 'learning_rate': 1.6296296296296295e-06, 'epoch': 2.91}\n",
      "{'loss': 1.7656, 'learning_rate': 1.4814814814814817e-06, 'epoch': 2.92}\n",
      "{'loss': 1.8145, 'learning_rate': 1.3333333333333334e-06, 'epoch': 2.93}\n",
      "{'loss': 1.7741, 'learning_rate': 1.1851851851851852e-06, 'epoch': 2.94}\n",
      "{'loss': 1.801, 'learning_rate': 1.0370370370370371e-06, 'epoch': 2.94}\n",
      "{'loss': 1.7657, 'learning_rate': 8.88888888888889e-07, 'epoch': 2.95}\n",
      "{'loss': 1.7921, 'learning_rate': 7.407407407407408e-07, 'epoch': 2.96}\n",
      "{'loss': 1.8003, 'learning_rate': 5.925925925925926e-07, 'epoch': 2.97}\n",
      "{'loss': 1.7888, 'learning_rate': 4.444444444444445e-07, 'epoch': 2.98}\n",
      "{'loss': 1.7699, 'learning_rate': 2.962962962962963e-07, 'epoch': 2.98}\n",
      "{'loss': 1.753, 'learning_rate': 1.4814814814814815e-07, 'epoch': 2.99}\n",
      "{'loss': 1.7808, 'learning_rate': 0.0, 'epoch': 3.0}\n"
     ]
    },
    {
     "data": {
      "application/vnd.jupyter.widget-view+json": {
       "model_id": "ec34116f2fc74f738a545bc07cace9d1",
       "version_major": 2,
       "version_minor": 0
      },
      "text/plain": [
       "  0%|          | 0/1250 [00:00<?, ?it/s]"
      ]
     },
     "metadata": {},
     "output_type": "display_data"
    },
    {
     "name": "stdout",
     "output_type": "stream",
     "text": [
      "{'eval_loss': 1.7357195615768433, 'eval_accuracy': 0.7364, 'eval_runtime': 39.7567, 'eval_samples_per_second': 251.53, 'eval_steps_per_second': 31.441, 'epoch': 3.0}\n",
      "{'train_runtime': 1539.76, 'train_samples_per_second': 77.934, 'train_steps_per_second': 2.435, 'train_loss': 1.8802003056844077, 'epoch': 3.0}\n"
     ]
    },
    {
     "data": {
      "text/plain": [
       "TrainOutput(global_step=3750, training_loss=1.8802003056844077, metrics={'train_runtime': 1539.76, 'train_samples_per_second': 77.934, 'train_steps_per_second': 2.435, 'train_loss': 1.8802003056844077, 'epoch': 3.0})"
      ]
     },
     "execution_count": 13,
     "metadata": {},
     "output_type": "execute_result"
    }
   ],
   "source": [
    "training_args = TrainingArguments(\n",
    "    output_dir=\"cifar10_efficientnet\",\n",
    "    remove_unused_columns=False,\n",
    "    evaluation_strategy=\"epoch\",\n",
    "    save_strategy=\"epoch\",\n",
    "    learning_rate=5e-5,\n",
    "    per_device_train_batch_size=8, # memory error with 16\n",
    "    gradient_accumulation_steps=4,\n",
    "    per_device_eval_batch_size=8,\n",
    "    num_train_epochs=3,\n",
    "    warmup_ratio=0.1,\n",
    "    logging_steps=10,\n",
    "    load_best_model_at_end=True,\n",
    "    metric_for_best_model=\"accuracy\",\n",
    "    push_to_hub=False,\n",
    ")\n",
    "\n",
    "trainer = Trainer(\n",
    "    model=model,\n",
    "    args=training_args,\n",
    "    data_collator=data_collator,\n",
    "    train_dataset=cifar10dataset[\"train\"],\n",
    "    eval_dataset=cifar10dataset[\"test\"],\n",
    "    tokenizer=image_processor,\n",
    "    compute_metrics=compute_metrics,\n",
    ")\n",
    "\n",
    "trainer.train()"
   ]
  }
 ],
 "metadata": {
  "kernelspec": {
   "display_name": "venv_bloom-classifier",
   "language": "python",
   "name": "python3"
  },
  "language_info": {
   "codemirror_mode": {
    "name": "ipython",
    "version": 3
   },
   "file_extension": ".py",
   "mimetype": "text/x-python",
   "name": "python",
   "nbconvert_exporter": "python",
   "pygments_lexer": "ipython3",
   "version": "3.11.3"
  },
  "orig_nbformat": 4
 },
 "nbformat": 4,
 "nbformat_minor": 2
}
