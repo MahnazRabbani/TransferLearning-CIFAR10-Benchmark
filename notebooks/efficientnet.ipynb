{
 "cells": [
  {
   "cell_type": "markdown",
   "metadata": {},
   "source": [
    "# Finetuning efficientNet"
   ]
  },
  {
   "cell_type": "markdown",
   "metadata": {},
   "source": [
    "Lets try the model that is trending for image classification on HuggingFace: efficientnet_b2.ra_in1k"
   ]
  },
  {
   "cell_type": "code",
   "execution_count": 1,
   "metadata": {},
   "outputs": [],
   "source": [
    "from datasets import load_dataset\n",
    "\n",
    "cifar10dataset = load_dataset(\"cifar10\", split=\"train[:5000]\")"
   ]
  },
  {
   "cell_type": "code",
   "execution_count": 2,
   "metadata": {},
   "outputs": [],
   "source": [
    "cifar10dataset = cifar10dataset.train_test_split(test_size=0.2)"
   ]
  },
  {
   "cell_type": "code",
   "execution_count": 3,
   "metadata": {},
   "outputs": [],
   "source": [
    "labels = cifar10dataset[\"train\"].features[\"label\"].names\n",
    "label2id, id2label = dict(), dict()\n",
    "for i, label in enumerate(labels):\n",
    "    label2id[label] = str(i)\n",
    "    id2label[str(i)] = label"
   ]
  },
  {
   "cell_type": "code",
   "execution_count": 4,
   "metadata": {},
   "outputs": [
    {
     "name": "stderr",
     "output_type": "stream",
     "text": [
      "2023-08-10 16:29:45.651949: I tensorflow/core/platform/cpu_feature_guard.cc:182] This TensorFlow binary is optimized to use available CPU instructions in performance-critical operations.\n",
      "To enable the following instructions: AVX2 FMA, in other operations, rebuild TensorFlow with the appropriate compiler flags.\n",
      "2023-08-10 16:29:46.407135: W tensorflow/compiler/tf2tensorrt/utils/py_utils.cc:38] TF-TRT Warning: Could not find TensorRT\n"
     ]
    }
   ],
   "source": [
    "from transformers import AutoImageProcessor\n",
    "\n",
    "#import timm\n",
    "#model = timm.create_model(\"hf_hub:timm/efficientnet_b2.ra_in1k\", pretrained=True)\n",
    "\n",
    "checkpoint = \"google/efficientnet-b0\"\n",
    "image_processor = AutoImageProcessor.from_pretrained(checkpoint)"
   ]
  },
  {
   "cell_type": "code",
   "execution_count": 5,
   "metadata": {},
   "outputs": [],
   "source": [
    "from torchvision.transforms import RandomResizedCrop, Compose, Normalize, ToTensor\n",
    "\n",
    "normalize = Normalize(mean=image_processor.image_mean, std=image_processor.image_std)\n",
    "size = (\n",
    "    image_processor.size[\"shortest_edge\"]\n",
    "    if \"shortest_edge\" in image_processor.size\n",
    "    else (image_processor.size[\"height\"], image_processor.size[\"width\"])\n",
    ")\n",
    "_transforms = Compose([RandomResizedCrop(size), ToTensor(), normalize])"
   ]
  },
  {
   "cell_type": "code",
   "execution_count": 6,
   "metadata": {},
   "outputs": [],
   "source": [
    "def transforms(examples):\n",
    "    examples[\"pixel_values\"] = [_transforms(img.convert(\"RGB\")) for img in examples[\"img\"]]\n",
    "    del examples[\"img\"]\n",
    "    return examples"
   ]
  },
  {
   "cell_type": "code",
   "execution_count": 7,
   "metadata": {},
   "outputs": [],
   "source": [
    "cifar10dataset = cifar10dataset.with_transform(transforms)"
   ]
  },
  {
   "cell_type": "code",
   "execution_count": 8,
   "metadata": {},
   "outputs": [],
   "source": [
    "from transformers import DefaultDataCollator\n",
    "\n",
    "data_collator = DefaultDataCollator()"
   ]
  },
  {
   "cell_type": "code",
   "execution_count": 9,
   "metadata": {},
   "outputs": [],
   "source": [
    "import evaluate\n",
    "\n",
    "accuracy = evaluate.load(\"accuracy\")"
   ]
  },
  {
   "cell_type": "code",
   "execution_count": 10,
   "metadata": {},
   "outputs": [],
   "source": [
    "import numpy as np\n",
    "\n",
    "\n",
    "def compute_metrics(eval_pred):\n",
    "    predictions, labels = eval_pred\n",
    "    predictions = np.argmax(predictions, axis=1)\n",
    "    return accuracy.compute(predictions=predictions, references=labels)"
   ]
  },
  {
   "cell_type": "code",
   "execution_count": 11,
   "metadata": {},
   "outputs": [
    {
     "name": "stderr",
     "output_type": "stream",
     "text": [
      "Some weights of EfficientNetForImageClassification were not initialized from the model checkpoint at google/efficientnet-b0 and are newly initialized because the shapes did not match:\n",
      "- classifier.weight: found shape torch.Size([1000, 1280]) in the checkpoint and torch.Size([10, 1280]) in the model instantiated\n",
      "- classifier.bias: found shape torch.Size([1000]) in the checkpoint and torch.Size([10]) in the model instantiated\n",
      "You should probably TRAIN this model on a down-stream task to be able to use it for predictions and inference.\n"
     ]
    }
   ],
   "source": [
    "from transformers import AutoModelForImageClassification, TrainingArguments, Trainer\n",
    "\n",
    "model = AutoModelForImageClassification.from_pretrained(\n",
    "    checkpoint,\n",
    "    num_labels=len(labels),\n",
    "    ignore_mismatched_sizes=True,\n",
    "    id2label=id2label,\n",
    "    label2id=label2id,\n",
    ")"
   ]
  },
  {
   "cell_type": "code",
   "execution_count": 12,
   "metadata": {},
   "outputs": [],
   "source": [
    "import torch \n",
    "torch.cuda.empty_cache()\n"
   ]
  },
  {
   "cell_type": "code",
   "execution_count": 13,
   "metadata": {},
   "outputs": [
    {
     "name": "stderr",
     "output_type": "stream",
     "text": [
      "/home/mahnaz/mlprojects/bloom-classifier/venv_bloom-classifier/lib/python3.11/site-packages/transformers/optimization.py:411: FutureWarning: This implementation of AdamW is deprecated and will be removed in a future version. Use the PyTorch implementation torch.optim.AdamW instead, or set `no_deprecation_warning=True` to disable this warning\n",
      "  warnings.warn(\n"
     ]
    },
    {
     "data": {
      "application/vnd.jupyter.widget-view+json": {
       "model_id": "63120fb588fb49f99405f4dc6903b89d",
       "version_major": 2,
       "version_minor": 0
      },
      "text/plain": [
       "  0%|          | 0/375 [00:00<?, ?it/s]"
      ]
     },
     "metadata": {},
     "output_type": "display_data"
    },
    {
     "name": "stdout",
     "output_type": "stream",
     "text": [
      "{'loss': 2.3032, 'learning_rate': 1.3157894736842106e-05, 'epoch': 0.08}\n",
      "{'loss': 2.3025, 'learning_rate': 2.6315789473684212e-05, 'epoch': 0.16}\n",
      "{'loss': 2.3024, 'learning_rate': 3.9473684210526316e-05, 'epoch': 0.24}\n",
      "{'loss': 2.3007, 'learning_rate': 4.9703264094955494e-05, 'epoch': 0.32}\n",
      "{'loss': 2.2981, 'learning_rate': 4.821958456973294e-05, 'epoch': 0.4}\n",
      "{'loss': 2.2938, 'learning_rate': 4.673590504451038e-05, 'epoch': 0.48}\n",
      "{'loss': 2.2915, 'learning_rate': 4.525222551928784e-05, 'epoch': 0.56}\n",
      "{'loss': 2.2869, 'learning_rate': 4.3768545994065286e-05, 'epoch': 0.64}\n",
      "{'loss': 2.2851, 'learning_rate': 4.228486646884273e-05, 'epoch': 0.72}\n",
      "{'loss': 2.2755, 'learning_rate': 4.080118694362018e-05, 'epoch': 0.8}\n",
      "{'loss': 2.2701, 'learning_rate': 3.9317507418397627e-05, 'epoch': 0.88}\n",
      "{'loss': 2.268, 'learning_rate': 3.783382789317508e-05, 'epoch': 0.96}\n"
     ]
    },
    {
     "data": {
      "application/vnd.jupyter.widget-view+json": {
       "model_id": "88c70fcd7c03476c88188d3befb849c7",
       "version_major": 2,
       "version_minor": 0
      },
      "text/plain": [
       "  0%|          | 0/125 [00:00<?, ?it/s]"
      ]
     },
     "metadata": {},
     "output_type": "display_data"
    },
    {
     "name": "stdout",
     "output_type": "stream",
     "text": [
      "{'eval_loss': 2.252371072769165, 'eval_accuracy': 0.334, 'eval_runtime': 4.0865, 'eval_samples_per_second': 244.711, 'eval_steps_per_second': 30.589, 'epoch': 1.0}\n",
      "{'loss': 2.252, 'learning_rate': 3.635014836795252e-05, 'epoch': 1.04}\n",
      "{'loss': 2.2462, 'learning_rate': 3.4866468842729974e-05, 'epoch': 1.12}\n",
      "{'loss': 2.2367, 'learning_rate': 3.338278931750742e-05, 'epoch': 1.2}\n",
      "{'loss': 2.2322, 'learning_rate': 3.189910979228487e-05, 'epoch': 1.28}\n",
      "{'loss': 2.2267, 'learning_rate': 3.0415430267062318e-05, 'epoch': 1.36}\n",
      "{'loss': 2.221, 'learning_rate': 2.8931750741839762e-05, 'epoch': 1.44}\n",
      "{'loss': 2.1939, 'learning_rate': 2.744807121661721e-05, 'epoch': 1.52}\n",
      "{'loss': 2.2004, 'learning_rate': 2.5964391691394662e-05, 'epoch': 1.6}\n",
      "{'loss': 2.1941, 'learning_rate': 2.4480712166172106e-05, 'epoch': 1.68}\n",
      "{'loss': 2.1912, 'learning_rate': 2.2997032640949558e-05, 'epoch': 1.76}\n",
      "{'loss': 2.1689, 'learning_rate': 2.1513353115727002e-05, 'epoch': 1.84}\n",
      "{'loss': 2.1718, 'learning_rate': 2.0029673590504454e-05, 'epoch': 1.92}\n",
      "{'loss': 2.1825, 'learning_rate': 1.85459940652819e-05, 'epoch': 2.0}\n"
     ]
    },
    {
     "data": {
      "application/vnd.jupyter.widget-view+json": {
       "model_id": "8e825dc6c6544018856e1a709809899a",
       "version_major": 2,
       "version_minor": 0
      },
      "text/plain": [
       "  0%|          | 0/125 [00:00<?, ?it/s]"
      ]
     },
     "metadata": {},
     "output_type": "display_data"
    },
    {
     "name": "stdout",
     "output_type": "stream",
     "text": [
      "{'eval_loss': 2.2002689838409424, 'eval_accuracy': 0.458, 'eval_runtime': 4.1429, 'eval_samples_per_second': 241.375, 'eval_steps_per_second': 30.172, 'epoch': 2.0}\n",
      "{'loss': 2.1822, 'learning_rate': 1.706231454005935e-05, 'epoch': 2.08}\n",
      "{'loss': 2.173, 'learning_rate': 1.5578635014836794e-05, 'epoch': 2.16}\n",
      "{'loss': 2.1519, 'learning_rate': 1.4094955489614246e-05, 'epoch': 2.24}\n",
      "{'loss': 2.1788, 'learning_rate': 1.2611275964391692e-05, 'epoch': 2.32}\n",
      "{'loss': 2.164, 'learning_rate': 1.112759643916914e-05, 'epoch': 2.4}\n",
      "{'loss': 2.1724, 'learning_rate': 9.643916913946588e-06, 'epoch': 2.48}\n",
      "{'loss': 2.1537, 'learning_rate': 8.160237388724036e-06, 'epoch': 2.56}\n",
      "{'loss': 2.1502, 'learning_rate': 6.676557863501484e-06, 'epoch': 2.64}\n",
      "{'loss': 2.1428, 'learning_rate': 5.192878338278932e-06, 'epoch': 2.72}\n",
      "{'loss': 2.1413, 'learning_rate': 3.7091988130563796e-06, 'epoch': 2.8}\n",
      "{'loss': 2.1561, 'learning_rate': 2.225519287833828e-06, 'epoch': 2.88}\n",
      "{'loss': 2.1694, 'learning_rate': 7.41839762611276e-07, 'epoch': 2.96}\n"
     ]
    },
    {
     "data": {
      "application/vnd.jupyter.widget-view+json": {
       "model_id": "c0592d0136fb4b599529824bd46e632c",
       "version_major": 2,
       "version_minor": 0
      },
      "text/plain": [
       "  0%|          | 0/125 [00:00<?, ?it/s]"
      ]
     },
     "metadata": {},
     "output_type": "display_data"
    },
    {
     "name": "stdout",
     "output_type": "stream",
     "text": [
      "{'eval_loss': 2.15342378616333, 'eval_accuracy': 0.411, 'eval_runtime': 3.9376, 'eval_samples_per_second': 253.959, 'eval_steps_per_second': 31.745, 'epoch': 3.0}\n",
      "{'train_runtime': 157.3047, 'train_samples_per_second': 76.285, 'train_steps_per_second': 2.384, 'train_loss': 2.2188035736083984, 'epoch': 3.0}\n"
     ]
    },
    {
     "data": {
      "text/plain": [
       "TrainOutput(global_step=375, training_loss=2.2188035736083984, metrics={'train_runtime': 157.3047, 'train_samples_per_second': 76.285, 'train_steps_per_second': 2.384, 'train_loss': 2.2188035736083984, 'epoch': 3.0})"
      ]
     },
     "execution_count": 13,
     "metadata": {},
     "output_type": "execute_result"
    }
   ],
   "source": [
    "training_args = TrainingArguments(\n",
    "    output_dir=\"cifar10_efficientnet\",\n",
    "    remove_unused_columns=False,\n",
    "    evaluation_strategy=\"epoch\",\n",
    "    save_strategy=\"epoch\",\n",
    "    learning_rate=5e-5,\n",
    "    per_device_train_batch_size=8, # memory error with 16\n",
    "    gradient_accumulation_steps=4,\n",
    "    per_device_eval_batch_size=8,\n",
    "    num_train_epochs=3,\n",
    "    warmup_ratio=0.1,\n",
    "    logging_steps=10,\n",
    "    load_best_model_at_end=True,\n",
    "    metric_for_best_model=\"accuracy\",\n",
    "    push_to_hub=False,\n",
    ")\n",
    "\n",
    "trainer = Trainer(\n",
    "    model=model,\n",
    "    args=training_args,\n",
    "    data_collator=data_collator,\n",
    "    train_dataset=cifar10dataset[\"train\"],\n",
    "    eval_dataset=cifar10dataset[\"test\"],\n",
    "    tokenizer=image_processor,\n",
    "    compute_metrics=compute_metrics,\n",
    ")\n",
    "\n",
    "trainer.train()"
   ]
  },
  {
   "cell_type": "markdown",
   "metadata": {},
   "source": [
    "OutOfMemoryError: CUDA out of memory.   \n",
    "First we tried to use \"google/efficientnet-b7\" model, but it too large to run on a single GPU. We then replace it with model \"google/efficientnet-b0\"."
   ]
  },
  {
   "cell_type": "markdown",
   "metadata": {},
   "source": [
    "Model is learning as the loss is decreasing, however very slowly. why is that, and how we can make the learning faster?"
   ]
  },
  {
   "cell_type": "code",
   "execution_count": null,
   "metadata": {},
   "outputs": [],
   "source": [
    "training_args = TrainingArguments(\n",
    "    output_dir=\"cifar10_efficientnet\",\n",
    "    remove_unused_columns=False,\n",
    "    evaluation_strategy=\"epoch\",\n",
    "    save_strategy=\"epoch\",\n",
    "    learning_rate=5e-5,\n",
    "    per_device_train_batch_size=8, # memory error with 16\n",
    "    gradient_accumulation_steps=4,\n",
    "    per_device_eval_batch_size=8,\n",
    "    num_train_epochs=3,\n",
    "    warmup_ratio=0.1,\n",
    "    logging_steps=10,\n",
    "    load_best_model_at_end=True,\n",
    "    metric_for_best_model=\"accuracy\",\n",
    "    push_to_hub=False,\n",
    ")\n",
    "\n",
    "trainer = Trainer(\n",
    "    model=model,\n",
    "    args=training_args,\n",
    "    data_collator=data_collator,\n",
    "    train_dataset=cifar10dataset[\"train\"],\n",
    "    eval_dataset=cifar10dataset[\"test\"],\n",
    "    tokenizer=image_processor,\n",
    "    compute_metrics=compute_metrics,\n",
    ")\n",
    "\n",
    "trainer.train()"
   ]
  }
 ],
 "metadata": {
  "kernelspec": {
   "display_name": "venv_bloom-classifier",
   "language": "python",
   "name": "python3"
  },
  "language_info": {
   "codemirror_mode": {
    "name": "ipython",
    "version": 3
   },
   "file_extension": ".py",
   "mimetype": "text/x-python",
   "name": "python",
   "nbconvert_exporter": "python",
   "pygments_lexer": "ipython3",
   "version": "3.11.3"
  },
  "orig_nbformat": 4
 },
 "nbformat": 4,
 "nbformat_minor": 2
}
